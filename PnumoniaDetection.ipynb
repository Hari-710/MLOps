{
  "nbformat": 4,
  "nbformat_minor": 0,
  "metadata": {
    "colab": {
      "provenance": [],
      "gpuType": "T4"
    },
    "kernelspec": {
      "name": "python3",
      "display_name": "Python 3"
    },
    "language_info": {
      "name": "python"
    },
    "accelerator": "GPU"
  },
  "cells": [
    {
      "cell_type": "code",
      "source": [
        "import zipfile\n",
        "zipfile=zipfile.ZipFile(\"/content/drive/MyDrive/chest_xray.zip\")\n",
        "zipfile.extractall()"
      ],
      "metadata": {
        "id": "zZwIUymYR-g-"
      },
      "execution_count": null,
      "outputs": []
    },
    {
      "cell_type": "code",
      "execution_count": null,
      "metadata": {
        "id": "K1n78wxG6vCS"
      },
      "outputs": [],
      "source": [
        "import os, shutil\n",
        "import random\n",
        "import numpy as np\n",
        "import pandas as pd\n",
        "import cv2\n",
        "import skimage\n",
        "import matplotlib.pyplot as plt\n",
        "import skimage.segmentation\n",
        "import seaborn as sns\n",
        "%matplotlib inline\n",
        "plt.style.use('ggplot')\n",
        "import warnings\n",
        "warnings.filterwarnings('ignore')"
      ]
    },
    {
      "cell_type": "code",
      "source": [
        "labels = ['PNEUMONIA', 'NORMAL']\n",
        "img_size = 128\n",
        "def get_data(data_dir):\n",
        "    data = []\n",
        "    for label in labels:\n",
        "        path = os.path.join(data_dir, label)\n",
        "        class_num = labels.index(label)\n",
        "        for img in os.listdir(path):\n",
        "            try:\n",
        "                img_arr = cv2.imread(os.path.join(path, img), cv2.IMREAD_GRAYSCALE)\n",
        "                resized_arr = cv2.resize(img_arr, (img_size, img_size))\n",
        "                data.append([resized_arr, class_num])\n",
        "            except Exception as e:\n",
        "                print(e)\n",
        "    return np.array(data)"
      ],
      "metadata": {
        "id": "G7o9cqj-7E9-"
      },
      "execution_count": null,
      "outputs": []
    },
    {
      "cell_type": "code",
      "source": [
        "def get_data(data_dir):\n",
        "    data = []\n",
        "    for label in labels:\n",
        "        path = os.path.join(data_dir, label)\n",
        "        class_num = labels.index(label)\n",
        "        for img in os.listdir(path):\n",
        "            try:\n",
        "                img_arr = cv2.imread(os.path.join(path, img), cv2.IMREAD_GRAYSCALE)\n",
        "                if img_arr is not None:\n",
        "                    resized_arr = cv2.resize(img_arr, (img_size, img_size))\n",
        "                    data.append([resized_arr, class_num])\n",
        "            except Exception as e:\n",
        "                print(f\"Error processing image {img}: {e}\")\n",
        "    return np.array(data, dtype=object)"
      ],
      "metadata": {
        "id": "jaWaZNzB7YCW"
      },
      "execution_count": null,
      "outputs": []
    },
    {
      "cell_type": "code",
      "source": [
        "train = get_data(\"/content/chest_xray/train\")\n",
        "test = get_data(\"/content/chest_xray/test\")\n",
        "val = get_data(\"/content/chest_xray/val\")"
      ],
      "metadata": {
        "id": "c_8i46x07alG"
      },
      "execution_count": null,
      "outputs": []
    },
    {
      "cell_type": "code",
      "source": [
        "from google.colab import drive\n",
        "drive.mount('/content/drive')"
      ],
      "metadata": {
        "id": "9Fp80cMs-EQ8"
      },
      "execution_count": null,
      "outputs": []
    },
    {
      "cell_type": "code",
      "source": [
        "pneumonia = os.listdir(\"/content/chest_xray/train/PNEUMONIA\")\n",
        "penomina_dir = \"/content/chest_xray/train/PNEUMONIA\""
      ],
      "metadata": {
        "id": "NpzG7tRX-HM_"
      },
      "execution_count": null,
      "outputs": []
    },
    {
      "cell_type": "code",
      "source": [
        "plt.figure(figsize=(20,10))\n",
        "\n",
        "for i in range(9):\n",
        "    plt.subplot(3,3, i+1)\n",
        "    img = plt.imread(os.path.join(penomina_dir, pneumonia[i]))\n",
        "    plt.imshow(img, cmap='gray')\n",
        "    plt.axis(\"off\")\n",
        "    plt.title(\"Pneumonia X-ray\")\n",
        "plt.tight_layout()"
      ],
      "metadata": {
        "id": "d2I7SDI1TSqM"
      },
      "execution_count": null,
      "outputs": []
    },
    {
      "cell_type": "code",
      "source": [
        "normal = os.listdir(\"/content/chest_xray/train/NORMAL\")\n",
        "normal_dir = \"/content/chest_xray/train/NORMAL\""
      ],
      "metadata": {
        "id": "UyJ0X6V2TWOL"
      },
      "execution_count": null,
      "outputs": []
    },
    {
      "cell_type": "code",
      "source": [
        "plt.figure(figsize=(20,10))\n",
        "\n",
        "for i in range(9):\n",
        "    plt.subplot(3,3, i+1)\n",
        "    img = plt.imread(os.path.join(normal_dir, normal[i]))\n",
        "    plt.imshow(img, cmap='gray')\n",
        "    plt.axis(\"off\")\n",
        "    plt.title(\"Normal X-ray\")\n",
        "plt.tight_layout()"
      ],
      "metadata": {
        "id": "UskD0vVCTaEb"
      },
      "execution_count": null,
      "outputs": []
    },
    {
      "cell_type": "code",
      "source": [
        "listx = []\n",
        "for i in train:\n",
        "    if(i[1] == 0):\n",
        "        listx.append(\"Pneumonia\")\n",
        "    else:\n",
        "        listx.append(\"Normal\")\n",
        "sns.countplot(x = listx)"
      ],
      "metadata": {
        "id": "qN4C7RCzTcyo"
      },
      "execution_count": null,
      "outputs": []
    },
    {
      "cell_type": "code",
      "source": [
        "pip install tensorflow"
      ],
      "metadata": {
        "id": "q28CJ8JQTfLx"
      },
      "execution_count": null,
      "outputs": []
    },
    {
      "cell_type": "code",
      "source": [
        "!pip install tensorflow\n",
        "\n",
        "import tensorflow as tf\n",
        "from tensorflow.keras.preprocessing.image import ImageDataGenerator\n",
        "from tensorflow.keras.models import Model\n",
        "from tensorflow.keras.models import load_model\n",
        "from tensorflow.keras.layers import Input, Dense, Flatten, Conv2D,Dropout\n",
        "from tensorflow.keras.applications.vgg19 import VGG19\n",
        "from tensorflow.keras.optimizers import SGD, RMSprop, Adam\n",
        "from tensorflow.keras.callbacks import ModelCheckpoint, EarlyStopping, ReduceLROnPlateau"
      ],
      "metadata": {
        "id": "znDcp442TiM4"
      },
      "execution_count": null,
      "outputs": []
    },
    {
      "cell_type": "code",
      "source": [
        "train_datagen = ImageDataGenerator(rescale = 1. / 255,\n",
        "                  horizontal_flip=0.4,\n",
        "                  vertical_flip=0.4,\n",
        "                  rotation_range=40,\n",
        "                  shear_range=0.2,\n",
        "                  width_shift_range=0.4,\n",
        "                  height_shift_range=0.4,\n",
        "                  fill_mode=\"nearest\")\n",
        "valid_datagen = ImageDataGenerator(rescale = 1./255)\n",
        "test_datagen = ImageDataGenerator(rescale = 1./255)"
      ],
      "metadata": {
        "id": "VH6fWS4aTmW4"
      },
      "execution_count": null,
      "outputs": []
    },
    {
      "cell_type": "code",
      "source": [
        "train_generator = train_datagen.flow_from_directory(\"/content/chest_xray/train\",\n",
        "                                 batch_size = 32,\n",
        "                                 target_size=(128,128),\n",
        "                                 class_mode = 'categorical',\n",
        "                                 shuffle=True,\n",
        "                                 seed = 42,\n",
        "                                 color_mode = 'rgb')\n",
        "valid_generator = valid_datagen.flow_from_directory(\"/content/chest_xray/val\",\n",
        "                                 batch_size = 32,\n",
        "                                 target_size=(128,128),\n",
        "                                 class_mode = 'categorical',\n",
        "                                 shuffle=True,\n",
        "                                 seed = 42,\n",
        "                                 color_mode = 'rgb')"
      ],
      "metadata": {
        "id": "d5suQ4_PTqZv"
      },
      "execution_count": null,
      "outputs": []
    },
    {
      "cell_type": "code",
      "source": [
        "class_labels = train_generator.class_indices"
      ],
      "metadata": {
        "id": "zcjBA2GVTsaA"
      },
      "execution_count": null,
      "outputs": []
    },
    {
      "cell_type": "code",
      "source": [
        "class_labels"
      ],
      "metadata": {
        "id": "gWOBVbG_TvW-"
      },
      "execution_count": null,
      "outputs": []
    },
    {
      "cell_type": "code",
      "source": [
        "class_name = {value:key for (key, value) in class_labels.items()}"
      ],
      "metadata": {
        "id": "QAHVMXIyTxsR"
      },
      "execution_count": null,
      "outputs": []
    },
    {
      "cell_type": "code",
      "source": [
        "class_name"
      ],
      "metadata": {
        "id": "RyvaNCwhT0QM"
      },
      "execution_count": null,
      "outputs": []
    },
    {
      "cell_type": "code",
      "source": [
        "base_model = VGG19(input_shape = (128,128,3),\n",
        "                     include_top = False,\n",
        "                     weights = 'imagenet')\n",
        "for layer in base_model.layers:\n",
        "    layer.trainable = False\n",
        "\n",
        "x = base_model.output\n",
        "flat = Flatten()(x)\n",
        "\n",
        "\n",
        "class_1 = Dense(4608, activation = 'relu')(flat)\n",
        "dropout = Dropout(0.2)(class_1)\n",
        "class_2 = Dense(1152, activation = 'relu')(dropout)\n",
        "output = Dense(2, activation = 'softmax')(class_2)\n",
        "\n",
        "model_01 = Model(base_model.inputs, output)\n",
        "model_01.summary()"
      ],
      "metadata": {
        "id": "OHlFyUKfT8zZ"
      },
      "execution_count": null,
      "outputs": []
    },
    {
      "cell_type": "code",
      "source": [
        "# filepath = \"model.h5\"\n",
        "# es = EarlyStopping(monitor=\"val_loss\", verbose=1, mode=\"min\", patience=4)\n",
        "# cp=ModelCheckpoint(filepath, monitor=\"val_loss\", save_best_only=True, save_weights_only=False,mode=\"auto\", save_freq=\"epoch\")\n",
        "# lrr = ReduceLROnPlateau(monitor=\"val_accuracy\", patience=3, verbose=1, factor=0.5, min_lr=0.0001)\n",
        "\n",
        "# sgd = SGD(learning_rate=0.0001, decay = 1e-6, momentum=0, nesterov = True)\n",
        "\n",
        "# model_01.compile(loss=\"categorical_crossentropy\", optimizer=sgd, metrics=['accuracy'])\n",
        "\n",
        "filepath = \"model.keras\"\n",
        "es = EarlyStopping(monitor=\"val_loss\", verbose=1, mode=\"min\", patience=4)\n",
        "cp = ModelCheckpoint(filepath, monitor=\"val_loss\", save_best_only=True, save_weights_only=False, mode=\"auto\", save_freq=\"epoch\")\n",
        "lrr = ReduceLROnPlateau(monitor=\"val_accuracy\", patience=3, verbose=1, factor=0.5, min_lr=0.0001)\n",
        "\n",
        "sgd = SGD(learning_rate=0.0001, decay=1e-6, momentum=0.0, nesterov=True)\n",
        "\n",
        "model_01.compile(loss=\"categorical_crossentropy\", optimizer=sgd, metrics=['accuracy'])\n",
        "\n",
        "# sgd = SGD(learning_rate=0.0001, decay=1e-6, momentum=0, nesterov=True)\n",
        "\n",
        "# model_01.compile(loss=\"categorical_crossentropy\", optimizer=sgd, metrics=['accuracy'])\n"
      ],
      "metadata": {
        "id": "mLnyu8reT--g"
      },
      "execution_count": null,
      "outputs": []
    },
    {
      "cell_type": "code",
      "source": [
        "history_01 = model_01.fit(train_generator,\n",
        "            steps_per_epoch=50,\n",
        "            epochs=1,\n",
        "            callbacks=[es, cp, lrr],\n",
        "            validation_data=valid_generator)"
      ],
      "metadata": {
        "id": "0-g3i8TyUC_z"
      },
      "execution_count": null,
      "outputs": []
    },
    {
      "cell_type": "code",
      "source": [
        "if not os.path.isdir('model_weights/'):\n",
        "    os.mkdir(\"model_weights/\")\n",
        "model_01.save(filepath = \"model_weights/vgg19_model_01.h5\", overwrite=True)"
      ],
      "metadata": {
        "id": "magb5rfkUGtl"
      },
      "execution_count": null,
      "outputs": []
    },
    {
      "cell_type": "code",
      "source": [
        "test_generator = test_datagen.flow_from_directory(\"/content/chest_xray/test\",\n",
        "                                 batch_size = 32,\n",
        "                                 target_size=(128,128),\n",
        "                                 class_mode = 'categorical',\n",
        "                                 shuffle=True,\n",
        "                                 seed = 42,\n",
        "                                 color_mode = 'rgb')"
      ],
      "metadata": {
        "id": "twLdu0vtUUFV"
      },
      "execution_count": null,
      "outputs": []
    },
    {
      "cell_type": "code",
      "source": [
        "model_01.load_weights(\"model_weights/vgg19_model_01.h5\")\n",
        "\n",
        "vgg_val_eval_01 = model_01.evaluate(valid_generator)\n",
        "vgg_test_eval_01 = model_01.evaluate(test_generator)"
      ],
      "metadata": {
        "id": "VSIXd3E4UWFn"
      },
      "execution_count": null,
      "outputs": []
    },
    {
      "cell_type": "code",
      "source": [
        "print(f\"Validation Loss: {vgg_val_eval_01[0]}\")\n",
        "print(f\"Validation Accuarcy: {vgg_val_eval_01[1]}\")\n",
        "print(f\"Test Loss: {vgg_test_eval_01[0]}\")\n",
        "print(f\"Test Accuarcy: {vgg_test_eval_01[1]}\")"
      ],
      "metadata": {
        "id": "DAXTvgLtUYn1"
      },
      "execution_count": null,
      "outputs": []
    },
    {
      "cell_type": "code",
      "source": [
        "base_model = VGG19(include_top=False, input_shape=(128,128,3))\n",
        "base_model_layer_names = [layer.name for layer in base_model.layers]\n",
        "\n",
        "x = base_model.output\n",
        "flat = Flatten()(x)\n",
        "\n",
        "\n",
        "class_1 = Dense(4608, activation = 'relu')(flat)\n",
        "dropout = Dropout(0.2)(class_1)\n",
        "class_2 = Dense(1152, activation = 'relu')(dropout)\n",
        "output = Dense(2, activation = 'softmax')(class_2)\n",
        "\n",
        "model_02 = Model(base_model.inputs, output)\n",
        "model_02.load_weights(\"model_weights/vgg19_model_01.h5\")\n",
        "\n",
        "set_trainable = False\n",
        "for layer in base_model.layers:\n",
        "    if layer.name in [ 'block5_conv3','block5_conv4']:\n",
        "        set_trainable=True\n",
        "    if set_trainable:\n",
        "        set_trainable=True\n",
        "    else:\n",
        "        set_trainable=False\n",
        "print(model_02.summary())"
      ],
      "metadata": {
        "id": "cmCCSssWUdg9"
      },
      "execution_count": null,
      "outputs": []
    },
    {
      "cell_type": "code",
      "source": [
        "base_model_layer_names"
      ],
      "metadata": {
        "id": "8UTCLAhBUipE"
      },
      "execution_count": null,
      "outputs": []
    },
    {
      "cell_type": "code",
      "source": [
        "# sgd = SGD(learning_rate=0.0001, decay = 1e-6, momentum=0, nesterov = True)\n",
        "\n",
        "# model_02.compile(loss=\"categorical_crossentropy\", optimizer=sgd, metrics=['accuracy'])\n",
        "\n",
        "\n",
        "sgd = SGD(learning_rate=0.0001, decay=1e-6, momentum=0.0, nesterov=True)\n",
        "\n",
        "model_02.compile(loss=\"categorical_crossentropy\", optimizer=sgd, metrics=['accuracy'])"
      ],
      "metadata": {
        "id": "PAjzVVIiUXih"
      },
      "execution_count": null,
      "outputs": []
    },
    {
      "cell_type": "code",
      "source": [
        "history_02 = model_02.fit(train_generator,\n",
        "            steps_per_epoch=10,\n",
        "            epochs=1,\n",
        "            callbacks=[es, cp, lrr],\n",
        "            validation_data=valid_generator)"
      ],
      "metadata": {
        "colab": {
          "base_uri": "https://localhost:8080/"
        },
        "id": "ijTjYQAOVFEf",
        "outputId": "6cd5b09a-c109-4be7-c9d2-268f49ffe935"
      },
      "execution_count": 30,
      "outputs": [
        {
          "output_type": "stream",
          "name": "stdout",
          "text": [
            "\u001b[1m10/10\u001b[0m \u001b[32m━━━━━━━━━━━━━━━━━━━━\u001b[0m\u001b[37m\u001b[0m \u001b[1m346s\u001b[0m 34s/step - accuracy: 0.6669 - loss: 0.6631 - val_accuracy: 0.5000 - val_loss: 0.8577 - learning_rate: 1.0000e-04\n"
          ]
        }
      ]
    },
    {
      "cell_type": "code",
      "source": [
        "if not os.path.isdir('model_weights/'):\n",
        "    os.mkdir(\"model_weights/\")\n",
        "model_02.save(filepath = \"model_weights/vgg19_model_02.h5\", overwrite=True)"
      ],
      "metadata": {
        "id": "vcrtHq2pVGv1",
        "colab": {
          "base_uri": "https://localhost:8080/"
        },
        "outputId": "fcf54f22-215e-4d7a-e982-d58568ff4afe"
      },
      "execution_count": 31,
      "outputs": [
        {
          "output_type": "stream",
          "name": "stderr",
          "text": [
            "WARNING:absl:You are saving your model as an HDF5 file via `model.save()` or `keras.saving.save_model(model)`. This file format is considered legacy. We recommend using instead the native Keras format, e.g. `model.save('my_model.keras')` or `keras.saving.save_model(model, 'my_model.keras')`. \n"
          ]
        }
      ]
    },
    {
      "cell_type": "code",
      "source": [
        "model_02.load_weights(\"model_weights/vgg19_model_02.h5\")\n",
        "\n",
        "vgg_val_eval_02 = model_02.evaluate(valid_generator)\n",
        "vgg_test_eval_02 = model_02.evaluate(test_generator)\n",
        "\n",
        "print(f\"Validation Loss: {vgg_val_eval_02[0]}\")\n",
        "print(f\"Validation Accuarcy: {vgg_val_eval_02[1]}\")\n",
        "print(f\"Test Loss: {vgg_test_eval_02[0]}\")\n",
        "print(f\"Test Accuarcy: {vgg_test_eval_02[1]}\")"
      ],
      "metadata": {
        "id": "N3P3RlRaVSeH",
        "colab": {
          "base_uri": "https://localhost:8080/"
        },
        "outputId": "f8a96d9f-05f6-4091-8893-285711a8bb0b"
      },
      "execution_count": null,
      "outputs": [
        {
          "output_type": "stream",
          "name": "stdout",
          "text": [
            "\u001b[1m1/1\u001b[0m \u001b[32m━━━━━━━━━━━━━━━━━━━━\u001b[0m\u001b[37m\u001b[0m \u001b[1m4s\u001b[0m 4s/step - accuracy: 0.5000 - loss: 0.8577\n",
            "\u001b[1m20/20\u001b[0m \u001b[32m━━━━━━━━━━━━━━━━━━━━\u001b[0m\u001b[37m\u001b[0m \u001b[1m179s\u001b[0m 9s/step - accuracy: 0.6158 - loss: 0.6863\n"
          ]
        }
      ]
    },
    {
      "cell_type": "code",
      "source": [
        "base_model = VGG19(include_top=False, input_shape=(128,128,3))\n",
        "\n",
        "x = base_model.output\n",
        "flat = Flatten()(x)\n",
        "\n",
        "class_1 = Dense(4608, activation = 'relu')(flat)\n",
        "dropout = Dropout(0.2)(class_1)\n",
        "class_2 = Dense(1152, activation = 'relu')(dropout)\n",
        "output = Dense(2, activation = 'softmax')(class_2)\n",
        "\n",
        "model_03 = Model(base_model.inputs, output)\n",
        "model_03.load_weights(\"model_weights/vgg19_model_01.h5\")\n",
        "\n",
        "print(model_03.summary())"
      ],
      "metadata": {
        "id": "L6VTMo0FVUlm"
      },
      "execution_count": null,
      "outputs": []
    },
    {
      "cell_type": "code",
      "source": [
        "# sgd = SGD(learning_rate=0.0001, decay = 1e-6, momentum=0, nesterov = True)\n",
        "\n",
        "# model_03.compile(loss=\"categorical_crossentropy\", optimizer=sgd, metrics=['accuracy'])\n",
        "\n",
        "sgd = SGD(learning_rate=0.0001, decay=1e-6, momentum=0.0, nesterov=True)\n",
        "\n",
        "model_03.compile(loss=\"categorical_crossentropy\", optimizer=sgd, metrics=['accuracy'])"
      ],
      "metadata": {
        "id": "wpi0T0DDVYTF"
      },
      "execution_count": null,
      "outputs": []
    },
    {
      "cell_type": "code",
      "source": [
        "history_03 = model_02.fit(train_generator,\n",
        "            steps_per_epoch=100,\n",
        "            epochs=1,\n",
        "            callbacks=[es, cp, lrr],\n",
        "            validation_data=valid_generator)"
      ],
      "metadata": {
        "id": "acmswK_pVbnf"
      },
      "execution_count": null,
      "outputs": []
    },
    {
      "cell_type": "code",
      "source": [
        "if not os.path.isdir('model_weights/'):\n",
        "    os.mkdir(\"model_weights/\")\n",
        "model_02.save(filepath = \"model_weights/vgg_unfrozen.h5\", overwrite=True)"
      ],
      "metadata": {
        "id": "063JYPuFVefh"
      },
      "execution_count": null,
      "outputs": []
    },
    {
      "cell_type": "code",
      "source": [],
      "metadata": {
        "id": "DKEaL5hgVuAi"
      },
      "execution_count": null,
      "outputs": []
    }
  ]
}